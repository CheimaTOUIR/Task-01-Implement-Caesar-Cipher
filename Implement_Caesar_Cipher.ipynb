{
  "nbformat": 4,
  "nbformat_minor": 0,
  "metadata": {
    "colab": {
      "provenance": [],
      "authorship_tag": "ABX9TyNiu+Mokp5UksZoFJbw0qhL",
      "include_colab_link": true
    },
    "kernelspec": {
      "name": "python3",
      "display_name": "Python 3"
    },
    "language_info": {
      "name": "python"
    }
  },
  "cells": [
    {
      "cell_type": "markdown",
      "metadata": {
        "id": "view-in-github",
        "colab_type": "text"
      },
      "source": [
        "<a href=\"https://colab.research.google.com/github/CheimaTOUIR/Task-01-Implement-Caesar-Cipher/blob/main/Implement_Caesar_Cipher.ipynb\" target=\"_parent\"><img src=\"https://colab.research.google.com/assets/colab-badge.svg\" alt=\"Open In Colab\"/></a>"
      ]
    },
    {
      "cell_type": "markdown",
      "source": [
        "**Task-01 Implement Caesar Cipher**\n"
      ],
      "metadata": {
        "id": "2Bzmqacp5mmz"
      }
    },
    {
      "cell_type": "code",
      "execution_count": 1,
      "metadata": {
        "colab": {
          "base_uri": "https://localhost:8080/"
        },
        "id": "LFDMUce55l5e",
        "outputId": "0555d422-76e4-4ea1-a967-67f65d661276"
      },
      "outputs": [
        {
          "name": "stdout",
          "output_type": "stream",
          "text": [
            "*****************  Welcome to the Caesar Cipher program ! *******************\n",
            "Do you want to (E)ncrypt, (D)ecrypt, (V)iew history, (C)lear history, (S)ave history or (Q)uit? e\n",
            "Enter the message: cheima\n",
            "Enter the shift value (1-25): 2\n",
            "The encrypted message is: ejgkoc\n",
            "\n",
            "Do you want to (E)ncrypt, (D)ecrypt, (V)iew history, (C)lear history, (S)ave history or (Q)uit? e\n",
            "Enter the message: cyber\n",
            "Enter the shift value (1-25): 4\n",
            "The encrypted message is: gcfiv\n",
            "\n",
            "Do you want to (E)ncrypt, (D)ecrypt, (V)iew history, (C)lear history, (S)ave history or (Q)uit? e\n",
            "Enter the message: caesar\n",
            "Enter the shift value (1-25): 5\n",
            "The encrypted message is: hfjxfw\n",
            "\n",
            "Do you want to (E)ncrypt, (D)ecrypt, (V)iew history, (C)lear history, (S)ave history or (Q)uit? d\n",
            "Enter the message: ejgkoc\n",
            "Enter the shift value (1-25): 2\n",
            "The decrypted message is: cheima\n",
            "\n",
            "Do you want to (E)ncrypt, (D)ecrypt, (V)iew history, (C)lear history, (S)ave history or (Q)uit? d\n",
            "Enter the message: gcfiv\n",
            "Enter the shift value (1-25): 4\n",
            "The decrypted message is: cyber\n",
            "\n",
            "Do you want to (E)ncrypt, (D)ecrypt, (V)iew history, (C)lear history, (S)ave history or (Q)uit? s\n",
            "History saved to caesar_cipher_history.txt\n",
            "Do you want to (E)ncrypt, (D)ecrypt, (V)iew history, (C)lear history, (S)ave history or (Q)uit? v\n",
            "\n",
            "****************************************************************************************\n",
            "Operation  | Normal Message       | Encrypted/Decrypted Message    | Shift\n",
            "----------------------------------------------------------------------------------------\n",
            "Encrypt    | cheima               | ejgkoc                         | 2    \n",
            "Encrypt    | cyber                | gcfiv                          | 4    \n",
            "Encrypt    | caesar               | hfjxfw                         | 5    \n",
            "Decrypt    | ejgkoc               | cheima                         | 2    \n",
            "Decrypt    | gcfiv                | cyber                          | 4    \n",
            "****************************************************************************************\n",
            "Do you want to (E)ncrypt, (D)ecrypt, (V)iew history, (C)lear history, (S)ave history or (Q)uit? q\n"
          ]
        }
      ],
      "source": [
        "import re\n",
        "\n",
        "def caesar_cipher(text, shift, encrypt=True):\n",
        "    result = \"\"\n",
        "    if not encrypt:\n",
        "        shift = -shift\n",
        "\n",
        "    for char in text:\n",
        "        if char.isalpha():\n",
        "            shift_base = 65 if char.isupper() else 97\n",
        "            result += chr((ord(char) - shift_base + shift) % 26 + shift_base)\n",
        "        else:\n",
        "            result += char\n",
        "\n",
        "    return result\n",
        "\n",
        "def print_history(history):\n",
        "    if not history:\n",
        "        print(\"No history available.\")\n",
        "    else:\n",
        "        print(\"\\n****************************************************************************************\")\n",
        "        print(f\"{'Operation':<10} | {'Normal Message':<20} | {'Encrypted/Decrypted Message':<30} | {'Shift':<5}\")\n",
        "        print(\"----------------------------------------------------------------------------------------\")\n",
        "        for item in history:\n",
        "            print(f\"{item[0]:<10} | {item[1]:<20} | {item[2]:<30} | {item[3]:<5}\")\n",
        "        print(\"****************************************************************************************\")\n",
        "\n",
        "def save_history_to_file(history, filename=\"caesar_cipher_history.txt\"):\n",
        "    with open(filename, 'w') as file:\n",
        "        file.write(\"Operation,Normal Message,Encrypted/Decrypted Message,Shift\\n\")\n",
        "        for item in history:\n",
        "            file.write(f\"{item[0]},{item[1]},{item[2]},{item[3]}\\n\")\n",
        "    print(f\"History saved to {filename}\")\n",
        "\n",
        "def main():\n",
        "    print(\"*****************  Welcome to the Caesar Cipher program ! *******************\")\n",
        "    history = []\n",
        "\n",
        "    while True:\n",
        "        choice = input(\"Do you want to (E)ncrypt, (D)ecrypt, (V)iew history, (C)lear history, (S)ave history or (Q)uit? \").upper()\n",
        "        if choice == 'Q':\n",
        "            break\n",
        "        elif choice == 'V':\n",
        "            print_history(history)\n",
        "            continue\n",
        "        elif choice == 'C':\n",
        "            history.clear()\n",
        "            print(\"History cleared.\")\n",
        "            continue\n",
        "        elif choice == 'S':\n",
        "            save_history_to_file(history)\n",
        "            continue\n",
        "        elif choice not in ['E', 'D']:\n",
        "            print(\"Invalid choice\")\n",
        "            continue\n",
        "\n",
        "        while True:\n",
        "            text = input(\"Enter the message: \")\n",
        "            if not re.match(\"^[A-Za-z]*$\", text):\n",
        "                print(\"Error: The message must contain only alphabetic characters. Please try again.\")\n",
        "            else:\n",
        "                break\n",
        "\n",
        "        while True:\n",
        "            shift_input = input(\"Enter the shift value (1-25): \")\n",
        "            if not shift_input.isdigit() or not (1 <= int(shift_input) <= 25):\n",
        "                print(\"Error: The shift value must be a number between 1 and 25. Please try again.\")\n",
        "            else:\n",
        "                shift_value = int(shift_input)\n",
        "                break\n",
        "\n",
        "        if choice == 'E':\n",
        "            encrypted_message = caesar_cipher(text, shift_value, encrypt=True)\n",
        "            print(f\"The encrypted message is: {encrypted_message}\\n\")\n",
        "            history.append((\"Encrypt\", text, encrypted_message, shift_value))\n",
        "        elif choice == 'D':\n",
        "            decrypted_message = caesar_cipher(text, shift_value, encrypt=False)\n",
        "            print(f\"The decrypted message is: {decrypted_message}\\n\")\n",
        "            history.append((\"Decrypt\", text, decrypted_message, shift_value))\n",
        "\n",
        "if __name__ == \"__main__\":\n",
        "    main()"
      ]
    },
    {
      "cell_type": "code",
      "source": [],
      "metadata": {
        "id": "oiOyd0ga4jKw"
      },
      "execution_count": null,
      "outputs": []
    }
  ]
}